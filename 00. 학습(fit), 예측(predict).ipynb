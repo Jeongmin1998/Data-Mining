{
  "nbformat": 4,
  "nbformat_minor": 0,
  "metadata": {
    "colab": {
      "name": "[실습]Ch02.sklearn의 개요 - 02.학습(fit), 예측(predict) 실습.ipynb",
      "provenance": [],
      "collapsed_sections": []
    },
    "kernelspec": {
      "name": "python3",
      "display_name": "Python 3"
    }
  },
  "cells": [
    {
      "cell_type": "code",
      "metadata": {
        "id": "e7FbfkBhIkTs"
      },
      "source": [
        "import numpy as np\n",
        "from sklearn.linear_model import LinearRegression"
      ],
      "execution_count": 3,
      "outputs": []
    },
    {
      "cell_type": "code",
      "metadata": {
        "id": "yRZSXmTTIyDs"
      },
      "source": [
        "x = np.arange(10).reshape(-1, 1)\n",
        "y = (2*x + 1).reshape(-1, 1)"
      ],
      "execution_count": 4,
      "outputs": []
    },
    {
      "cell_type": "code",
      "metadata": {
        "id": "zxeoKPMpI4o6",
        "colab": {
          "base_uri": "https://localhost:8080/"
        },
        "outputId": "dc2545ea-eeee-456b-e4d7-e14ceafcf972"
      },
      "source": [
        "x"
      ],
      "execution_count": 7,
      "outputs": [
        {
          "output_type": "execute_result",
          "data": {
            "text/plain": [
              "array([[0],\n",
              "       [1],\n",
              "       [2],\n",
              "       [3],\n",
              "       [4],\n",
              "       [5],\n",
              "       [6],\n",
              "       [7],\n",
              "       [8],\n",
              "       [9]])"
            ]
          },
          "metadata": {
            "tags": []
          },
          "execution_count": 7
        }
      ]
    },
    {
      "cell_type": "code",
      "metadata": {
        "id": "Nlx4kjkrI5N5",
        "colab": {
          "base_uri": "https://localhost:8080/"
        },
        "outputId": "b4a034e7-1678-40b2-9cc9-d15f4113d213"
      },
      "source": [
        "y"
      ],
      "execution_count": 8,
      "outputs": [
        {
          "output_type": "execute_result",
          "data": {
            "text/plain": [
              "array([[ 1],\n",
              "       [ 3],\n",
              "       [ 5],\n",
              "       [ 7],\n",
              "       [ 9],\n",
              "       [11],\n",
              "       [13],\n",
              "       [15],\n",
              "       [17],\n",
              "       [19]])"
            ]
          },
          "metadata": {
            "tags": []
          },
          "execution_count": 8
        }
      ]
    },
    {
      "cell_type": "markdown",
      "metadata": {
        "id": "lrYy3kXBJMxu"
      },
      "source": [
        "## 모델의 선언, fit(학습), predict(예측)"
      ]
    },
    {
      "cell_type": "code",
      "metadata": {
        "id": "JJ9T6KAtI5hw"
      },
      "source": [
        "# 모델 선언\n",
        "model = LinearRegression()"
      ],
      "execution_count": 9,
      "outputs": []
    },
    {
      "cell_type": "code",
      "metadata": {
        "id": "5dhecI6k0a3J",
        "colab": {
          "base_uri": "https://localhost:8080/"
        },
        "outputId": "1ee67047-9bb8-4df4-ef54-5addad00e3a3"
      },
      "source": [
        "model"
      ],
      "execution_count": 10,
      "outputs": [
        {
          "output_type": "execute_result",
          "data": {
            "text/plain": [
              "LinearRegression(copy_X=True, fit_intercept=True, n_jobs=None, normalize=False)"
            ]
          },
          "metadata": {
            "tags": []
          },
          "execution_count": 10
        }
      ]
    },
    {
      "cell_type": "code",
      "metadata": {
        "id": "m9eilQAYI8W2",
        "colab": {
          "base_uri": "https://localhost:8080/"
        },
        "outputId": "be2e5933-5a55-4220-8953-72da0898a513"
      },
      "source": [
        "# 학습\n",
        "model.fit(x, y)"
      ],
      "execution_count": 11,
      "outputs": [
        {
          "output_type": "execute_result",
          "data": {
            "text/plain": [
              "LinearRegression(copy_X=True, fit_intercept=True, n_jobs=None, normalize=False)"
            ]
          },
          "metadata": {
            "tags": []
          },
          "execution_count": 11
        }
      ]
    },
    {
      "cell_type": "code",
      "metadata": {
        "id": "06JEQA_bI9mz"
      },
      "source": [
        "# 예측\n",
        "prediction = model.predict([[10.0]])"
      ],
      "execution_count": 12,
      "outputs": []
    },
    {
      "cell_type": "code",
      "metadata": {
        "id": "2l_GkdT7JX8q",
        "colab": {
          "base_uri": "https://localhost:8080/"
        },
        "outputId": "313142cb-d5fd-4156-f393-2141a43f5fbe"
      },
      "source": [
        "prediction"
      ],
      "execution_count": 13,
      "outputs": [
        {
          "output_type": "execute_result",
          "data": {
            "text/plain": [
              "array([[21.]])"
            ]
          },
          "metadata": {
            "tags": []
          },
          "execution_count": 13
        }
      ]
    }
  ]
}
